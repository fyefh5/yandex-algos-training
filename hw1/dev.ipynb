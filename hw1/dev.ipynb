{
 "cells": [
  {
   "cell_type": "code",
   "execution_count": 140,
   "metadata": {},
   "outputs": [
    {
     "name": "stdout",
     "output_type": "stream",
     "text": [
      "number of floors: 4\n",
      "apt: 30\n",
      "floor: 1\n",
      "entry: 2\n",
      "n_perfloor_min: 6\n",
      "n_perfloor_max: 7\n"
     ]
    },
    {
     "data": {
      "text/plain": [
       "(0, 0)"
      ]
     },
     "execution_count": 140,
     "metadata": {},
     "output_type": "execute_result"
    }
   ],
   "source": [
    "apt_test, n_floors, apt, entry, floor = list(map(int, \"5 4 30 2 1\".split()))\n",
    "\n",
    "\n",
    "def solve(apt_test, n_floors, apt, entry, floor) -> tuple:\n",
    "    \"\"\"\n",
    "    returns (i1, j1) \\n\n",
    "    if controversal, then (-2, -2) \\n\n",
    "    if amiguous i1, then (-1, j1) \\n\n",
    "    if ambiguous j1, then (i1, -1) \\n\n",
    "    \"\"\"\n",
    "    print(f\"number of floors: {n_floors}\")\n",
    "    print(f\"apt: {apt}\")\n",
    "    print(f\"floor: {floor}\")\n",
    "    print(f\"entry: {entry}\")\n",
    "    # k_flat = i * n_floors * n_perfloor + j * n_perfloor + k\n",
    "    k_flat_test = apt_test - 1  # index of apartment for event 1\n",
    "    k_flat = apt - 1  # index of apartment for event 2\n",
    "    i = entry - 1  # index of entry for event 2\n",
    "    j = floor - 1  # index of floor for event 2\n",
    "    # print(f\"i: {i}\")\n",
    "    # print(f\"j: {j}\")\n",
    "    # print(f\"k_flat: {k_flat}\")\n",
    "    # print(f\"k_flat_test: {k_flat_test}\")\n",
    "\n",
    "    # super wrong case\n",
    "    if floor > n_floors:\n",
    "        return -1, -1\n",
    "    # easy case\n",
    "    if n_floors == 1 and apt_test <= n_floors:\n",
    "        return 1, 1\n",
    "    cum_floor = i * n_floors + floor\n",
    "    # super wrong case\n",
    "    if apt < cum_floor:\n",
    "        return -1, -1\n",
    "    # ambiguous case\n",
    "    if cum_floor == 1:\n",
    "        if apt_test > apt:\n",
    "            return 0, 1\n",
    "        return 1, 1\n",
    "    # 1-floor case\n",
    "    if n_floors == 1:\n",
    "        n_perfloor = (apt - 1) // cum_floor + 1\n",
    "\n",
    "    # general case\n",
    "    n_perfloor_min = (apt - 1) // cum_floor + 1\n",
    "    max_last_floor_population = n_perfloor_min\n",
    "    if apt % n_perfloor_min > 0:\n",
    "        max_last_floor_population = apt % n_perfloor_min\n",
    "    delta = 0\n",
    "    if max_last_floor_population > (cum_floor - 1):\n",
    "        delta = max_last_floor_population // (cum_floor - 1)\n",
    "        if max_last_floor_population % (cum_floor - 1) == 0:\n",
    "            delta -= 1\n",
    "    n_perfloor_max = n_perfloor_min + delta\n",
    "    print(f\"n_perfloor_min: {n_perfloor_min}\")\n",
    "    print(f\"n_perfloor_max: {n_perfloor_max}\")\n",
    "    if n_perfloor_min == n_perfloor_max:\n",
    "        # no ambiguity\n",
    "        n_perfloor = n_perfloor_max\n",
    "        entry_test = k_flat_test // n_perfloor // n_floors + 1\n",
    "        floor_test = k_flat_test // n_perfloor % n_floors + 1\n",
    "        return entry_test, floor_test\n",
    "    # ambiguous case\n",
    "    entry_test = k_flat_test // n_perfloor_min // n_floors + 1\n",
    "    floor_test = k_flat_test // n_perfloor_min % n_floors + 1\n",
    "    for n_perfloor in range(n_perfloor_min+1, n_perfloor_max+1):\n",
    "        if k_flat_test // n_perfloor // n_floors + 1 != entry_test:\n",
    "            entry_test = 0\n",
    "        if k_flat_test // n_perfloor % n_floors + 1 != floor_test:\n",
    "            floor_test = 0\n",
    "    return entry_test, floor_test\n",
    "\n",
    "\n",
    "solve(apt_test, n_floors, apt, entry, floor)"
   ]
  },
  {
   "cell_type": "code",
   "execution_count": 21,
   "metadata": {},
   "outputs": [
    {
     "data": {
      "text/plain": [
       "2"
      ]
     },
     "execution_count": 21,
     "metadata": {},
     "output_type": "execute_result"
    }
   ],
   "source": [
    "n_apts = 11\n",
    "n_perfloor = 10\n",
    "# n_apts//n_perfloor , n_apts%n_perfloor\n",
    "n_floors = n_apts // n_perfloor + (1 if n_apts % n_perfloor > 0 else 0)\n",
    "n_floors"
   ]
  },
  {
   "cell_type": "code",
   "execution_count": 133,
   "metadata": {},
   "outputs": [
    {
     "name": "stdout",
     "output_type": "stream",
     "text": [
      "n_perfloor_min: 6\n",
      "5\n",
      "4\n",
      "n_perfloor_max: 10\n"
     ]
    }
   ],
   "source": [
    "n_apts = 11\n",
    "n_floors = 2\n",
    "n_perfloor_min = (n_apts - 1) // n_floors + 1\n",
    "print(f\"n_perfloor_min: {n_perfloor_min}\")\n",
    "max_last_floor_population = n_apts % n_perfloor_min if n_apts % n_perfloor_min > 0 else n_perfloor_min\n",
    "print(max_last_floor_population)\n",
    "# how many times you can subtract n_floors-1 until you reach the population of less than n_floors-1\n",
    "delta = 0\n",
    "if max_last_floor_population > (n_floors - 1):\n",
    "    delta = max_last_floor_population // (n_floors - 1)\n",
    "    if max_last_floor_population % (n_floors - 1) == 0:\n",
    "        delta -= 1\n",
    "print(delta)\n",
    "n_perfloor_max = n_perfloor_min + delta\n",
    "print(f\"n_perfloor_max: {n_perfloor_max}\")"
   ]
  },
  {
   "cell_type": "code",
   "execution_count": null,
   "metadata": {},
   "outputs": [],
   "source": []
  }
 ],
 "metadata": {
  "kernelspec": {
   "display_name": "Python 3",
   "language": "python",
   "name": "python3"
  },
  "language_info": {
   "codemirror_mode": {
    "name": "ipython",
    "version": 3
   },
   "file_extension": ".py",
   "mimetype": "text/x-python",
   "name": "python",
   "nbconvert_exporter": "python",
   "pygments_lexer": "ipython3",
   "version": "3.11.9"
  }
 },
 "nbformat": 4,
 "nbformat_minor": 2
}
