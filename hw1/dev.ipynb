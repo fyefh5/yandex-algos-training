{
 "cells": [
  {
   "cell_type": "code",
   "execution_count": 4,
   "metadata": {},
   "outputs": [
    {
     "name": "stdout",
     "output_type": "stream",
     "text": [
      "number of floors: 50\n",
      "i: 0\n",
      "j: 1\n",
      "k_flat: 74\n",
      "k_flat_test: 73\n",
      "j_flat: 1\n"
     ]
    }
   ],
   "source": [
    "# k1_flat, m, k2_flat, i2, j2 = list(map(int, input().split()))\n",
    "apt_test, n_floors, apt, entry_apt, floor_apt = list(map(int, \"74 50 75 1 2\".split()))\n",
    "\n",
    "k_flat_test = apt_test - 1  # index of apartment for event 1\n",
    "k_flat = apt - 1  # index of apartment for event 2\n",
    "i = entry_apt - 1  # index of entry for event 2\n",
    "j = floor_apt - 1  # index of floor for event 2\n",
    "\n",
    "print(f\"number of floors: {n_floors}\")\n",
    "print(f\"i: {i}\")\n",
    "print(f\"j: {j}\")\n",
    "print(f\"k_flat: {k_flat}\")\n",
    "print(f\"k_flat_test: {k_flat_test}\")\n",
    "\n",
    "# model:\n",
    "# house is the 3d-array where 1d - entries, 2d - floor, 3d - apt\n",
    "# house.shape = (entries, floors, apts)= (l, m, n), where only m is known\n",
    "# with coordinates for each dimension = i, j, k\n",
    "# flattened version for each apt is referred as k_flat\n",
    "# for each floor - j_flat\n",
    "\n",
    "# k_flat = i * n_floors * n_perfloor + j * n_perfloor + k\n",
    "\n",
    "def solve(k_flat_test, i, j, k_flat, n_floors) -> tuple:\n",
    "    '''\n",
    "    returns (i1, j1) \\n\n",
    "    if controversal, then (-2, -2) \\n\n",
    "    if amiguous i1, then (-1, j1) \\n\n",
    "    if ambiguous j1, then (i1, -1) \\n\n",
    "    '''\n",
    "    j_flat = i * n_floors + j\n",
    "    print(f\"j_flat: {j_flat}\")\n",
    "    # how to check for an ambiguity?\n",
    "    # we need to find if there more than one way to get this k_flat\n",
    "    # we need to find all possible n_perfloor values, so that i and j are valid\n",
    "    # there is a condition k < n_perfloor\n",
    "    # and also j < n_floor, but we know both here, so it is simple\n",
    "    if j_flat == 0:\n",
    "        # ambiguity, but add 1-floor condition\n",
    "        return -1, -1\n",
    "    if j < n_floor:\n",
    "        return -2, -2\n",
    "    if k_flat % j_flat == 0:\n",
    "        n_perfloor = k_flat // j_flat # no ambiguity\n",
    "    else:\n",
    "        # we need to find the n_perfloor_min and n_perfloor_max to create a range to check\n",
    "        n_perfloor_max = k_flat // j_flat # k_flat \n",
    "        n_perfloor_min = k_flat // (j_flat+1)\n",
    "\n",
    "    else:\n",
    "    n_perfloor_min = \n",
    "    for n_perfloor in range()\n",
    "    if k_flat = i * n_floors * n_perfloor + j * n_perfloor + k\n",
    "    n_perfloor = k_flat // j_flat\n",
    "    k2 = k_flat % j_flat\n",
    "\n",
    "solve(k_flat_test, i, j, k_flat, n_floors)"
   ]
  },
  {
   "cell_type": "code",
   "execution_count": null,
   "metadata": {},
   "outputs": [],
   "source": []
  }
 ],
 "metadata": {
  "kernelspec": {
   "display_name": "Python 3",
   "language": "python",
   "name": "python3"
  },
  "language_info": {
   "codemirror_mode": {
    "name": "ipython",
    "version": 3
   },
   "file_extension": ".py",
   "mimetype": "text/x-python",
   "name": "python",
   "nbconvert_exporter": "python",
   "pygments_lexer": "ipython3",
   "version": "3.11.9"
  }
 },
 "nbformat": 4,
 "nbformat_minor": 2
}
