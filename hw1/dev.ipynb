{
 "cells": [
  {
   "cell_type": "code",
   "execution_count": 7,
   "metadata": {},
   "outputs": [
    {
     "name": "stdout",
     "output_type": "stream",
     "text": [
      "apt1 flattened index: 99\n",
      "number of floors: 2\n",
      "apt2 flattened index: 10\n",
      "apt2's entry index: 1\n",
      "apt2's floor index: 1\n",
      "apt2's flattened floor index: 3\n",
      "number of apt per floor: 3\n"
     ]
    },
    {
     "ename": "NameError",
     "evalue": "name 'f' is not defined",
     "output_type": "error",
     "traceback": [
      "\u001b[1;31m---------------------------------------------------------------------------\u001b[0m",
      "\u001b[1;31mNameError\u001b[0m                                 Traceback (most recent call last)",
      "Cell \u001b[1;32mIn[7], line 57\u001b[0m\n\u001b[0;32m     53\u001b[0m     j1 \u001b[38;5;241m=\u001b[39m \u001b[38;5;241m0\u001b[39m \u001b[38;5;28;01mif\u001b[39;00m m \u001b[38;5;241m==\u001b[39m \u001b[38;5;241m1\u001b[39m \u001b[38;5;28;01melse\u001b[39;00m \u001b[38;5;241m-\u001b[39m\u001b[38;5;241m1\u001b[39m\n\u001b[0;32m     54\u001b[0m     \u001b[38;5;28;01mreturn\u001b[39;00m i1, j1\n\u001b[1;32m---> 57\u001b[0m i1, j1 \u001b[38;5;241m=\u001b[39m \u001b[43msolve\u001b[49m\u001b[43m(\u001b[49m\u001b[43mk1_flat\u001b[49m\u001b[43m,\u001b[49m\u001b[43m \u001b[49m\u001b[43mm\u001b[49m\u001b[43m,\u001b[49m\u001b[43m \u001b[49m\u001b[43mk2_flat\u001b[49m\u001b[43m,\u001b[49m\u001b[43m \u001b[49m\u001b[43mi2\u001b[49m\u001b[43m,\u001b[49m\u001b[43m \u001b[49m\u001b[43mj2\u001b[49m\u001b[43m)\u001b[49m\n\u001b[0;32m     58\u001b[0m \u001b[38;5;28mprint\u001b[39m(\u001b[38;5;124m\"\u001b[39m\u001b[38;5;124m \u001b[39m\u001b[38;5;124m\"\u001b[39m\u001b[38;5;241m.\u001b[39mjoin(\u001b[38;5;28mmap\u001b[39m(\u001b[38;5;28mstr\u001b[39m, [i1 \u001b[38;5;241m+\u001b[39m \u001b[38;5;241m1\u001b[39m, j1 \u001b[38;5;241m+\u001b[39m \u001b[38;5;241m1\u001b[39m])))\n",
      "Cell \u001b[1;32mIn[7], line 44\u001b[0m, in \u001b[0;36msolve\u001b[1;34m(k1_flat, m, k2_flat, i2, j2)\u001b[0m\n\u001b[0;32m     42\u001b[0m k2 \u001b[38;5;241m=\u001b[39m k2_flat \u001b[38;5;241m%\u001b[39m j2_flat\n\u001b[0;32m     43\u001b[0m \u001b[38;5;28mprint\u001b[39m(\u001b[38;5;124mf\u001b[39m\u001b[38;5;124m\"\u001b[39m\u001b[38;5;124mnumber of apt per floor: \u001b[39m\u001b[38;5;132;01m{\u001b[39;00mn\u001b[38;5;132;01m}\u001b[39;00m\u001b[38;5;124m\"\u001b[39m)\n\u001b[1;32m---> 44\u001b[0m \u001b[38;5;28mprint\u001b[39m(\u001b[43mf\u001b[49m)\n\u001b[0;32m     45\u001b[0m \u001b[38;5;28;01mif\u001b[39;00m k2_flat \u001b[38;5;241m!=\u001b[39m i2 \u001b[38;5;241m*\u001b[39m m \u001b[38;5;241m*\u001b[39m n \u001b[38;5;241m+\u001b[39m j2 \u001b[38;5;241m*\u001b[39m n \u001b[38;5;241m+\u001b[39m k2:\n\u001b[0;32m     46\u001b[0m     \u001b[38;5;28;01mreturn\u001b[39;00m \u001b[38;5;241m-\u001b[39m\u001b[38;5;241m2\u001b[39m, \u001b[38;5;241m-\u001b[39m\u001b[38;5;241m2\u001b[39m  \u001b[38;5;66;03m# controversal\u001b[39;00m\n",
      "\u001b[1;31mNameError\u001b[0m: name 'f' is not defined"
     ]
    }
   ],
   "source": [
    "# k1_flat, m, k2_flat, i2, j2 = list(map(int, input().split()))\n",
    "k1_flat, m, k2_flat, i2, j2 = list(map(int, \"100 2 11 2 2\".split()))\n",
    "k1_flat -= 1  # index of apartment for event 1\n",
    "k2_flat -= 1  # index of apartment for event 2\n",
    "i2 -= 1  # index of entry for event 2\n",
    "j2 -= 1  # index of floor for event 2\n",
    "\n",
    "print(f\"apt1 flattened index: {k1_flat}\")\n",
    "print(f\"number of floors: {m}\")\n",
    "print(f\"apt2 flattened index: {k2_flat}\")\n",
    "print(f\"apt2's entry index: {i2}\")\n",
    "print(f\"apt2's floor index: {j2}\")\n",
    "\n",
    "# model:\n",
    "# house is the 3d-array where 1d - entries, 2d - floor, 3d - apt\n",
    "# house.shape = (entries, floors, apts)= (l, m, n), where only m is known\n",
    "# with coordinates for each dimension = i, j, k\n",
    "# flattened version for each apt is referred as k_flat\n",
    "# for each floor - j_flat\n",
    "\n",
    "\n",
    "def solve(k1_flat, m, k2_flat, i2, j2):\n",
    "    if any([k1_flat < 0, m < 1, k2_flat < 0, i2 < 0, j2 < 0]):\n",
    "        print(\"negative integers confirmed or zero floors\")\n",
    "        return -2, -2\n",
    "    if j2 >= m:\n",
    "        print(\n",
    "            f\"It is impossible to have apt2 at the {j2+1}-th floor in the {m}-story building\"\n",
    "        )\n",
    "        return -2, -2  # controversal\n",
    "    j2_flat = i2 * m + j2\n",
    "    print(f\"apt2's flattened floor index: {j2_flat}\")\n",
    "    if j2_flat > 0:\n",
    "        # from the 3d flattening formula, it is possible to find n\n",
    "        # k2_flat = i2 * m * n + j2 * n + k2\n",
    "        # k2_flat = (i2 * m + j2) * n + k2\n",
    "        # n = k2_flat // (i2 * m + j2)\n",
    "        if any([k2_flat < j2_flat, j2_flat < i2, k2_flat < i2]):\n",
    "            print(f\"It must be apt2's entry ({i2}) <= flattened floor ({j2_flat}) <= flattened apt ({k2_flat})\")\n",
    "            return -2, -2  # controversal\n",
    "        n = k2_flat // j2_flat\n",
    "        k2 = k2_flat % j2_flat\n",
    "        print(f\"apts per floor: {n}\")\n",
    "        print(f\"apt2's index: {k2}\")\n",
    "        if k2_flat != i2 * m * n + j2 * n + k2:\n",
    "            return -2, -2  # controversal\n",
    "        # k1_flat = i1 * m * n + j1 * n + k1\n",
    "        # k1_flat // n = i1*m + j1\n",
    "        j1 = k1_flat // n % m\n",
    "        i1 = k1_flat // n // m\n",
    "        return i1, j1\n",
    "    i1 = 0 if k1_flat <= m else -1\n",
    "    j1 = 0 if m == 1 else -1\n",
    "    return i1, j1\n",
    "\n",
    "\n",
    "i1, j1 = solve(k1_flat, m, k2_flat, i2, j2)\n",
    "print(\" \".join(map(str, [i1 + 1, j1 + 1])))"
   ]
  },
  {
   "cell_type": "code",
   "execution_count": null,
   "metadata": {},
   "outputs": [],
   "source": []
  }
 ],
 "metadata": {
  "kernelspec": {
   "display_name": "Python 3",
   "language": "python",
   "name": "python3"
  },
  "language_info": {
   "codemirror_mode": {
    "name": "ipython",
    "version": 3
   },
   "file_extension": ".py",
   "mimetype": "text/x-python",
   "name": "python",
   "nbconvert_exporter": "python",
   "pygments_lexer": "ipython3",
   "version": "3.11.9"
  }
 },
 "nbformat": 4,
 "nbformat_minor": 2
}
